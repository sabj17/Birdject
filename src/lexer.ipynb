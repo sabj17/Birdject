{
 "cells": [
  {
   "cell_type": "code",
   "execution_count": 69,
   "metadata": {},
   "outputs": [
    {
     "name": "stdout",
     "output_type": "stream",
     "text": [
      "['int', 'i', '=', '10.5', '(', ')', '{', '}', '+', '5', '\"hello#jen?(\"']\nint matches: identifier\ni matches: identifier\n= matches: assign\n10.5 matches: fnum\n( matches: lparen\n) matches: hparen\n{ matches: lcurly\n} matches: rcurly\n+ matches: plus\n5 matches: inum\n\"hello#jen?(\" matches: str\n"
     ]
    }
   ],
   "source": [
    "import re\n",
    "\n",
    "\n",
    "class Lexer:\n",
    "    TOKENS = {\n",
    "        \"set\": \"set\",\n",
    "        \"to\": \"to\",\n",
    "        \n",
    "        \"foreach\": \"for each\",\n",
    "        \"in\" : \"in \",\n",
    "        \"when\": \"when\",\n",
    "        \"if\": \"if\",\n",
    "        \"else\": \"else\",\n",
    "        \"run\": \"run\",\n",
    "        \"return\": \"return\",\n",
    "        \n",
    "        \"input\": \"input\",\n",
    "        \"output\": \"output\",\n",
    "        \"delay\": \"delay\",\n",
    "        \"date\": \"date\",\n",
    "        \"read\": \"read\",\n",
    "        \"write\": \"write\",\n",
    "        \"print\": \"print\",\n",
    "        \"bool\": \"true|false|on|off\",\n",
    "        \"not\": '!|not',\n",
    "        \n",
    "        \n",
    "        \"str\": r'^\"([\\w]|[+*/?=:.,;<>&#%()]|[-])*\"$',\n",
    "        \"identifier\": \"[a-z][a-zA-z0-9]*\",\n",
    "        \"fnum\": \"^[-+]?[0-9]*[.][0-9]+\",\n",
    "        \"inum\": \"^[-+]?[1-9][0-9]*$|0\",\n",
    "        \"lparen\": \"[\\(]\",\n",
    "        \"hparen\": \"[\\)]\",\n",
    "        \"lcurly\": \"[\\{]\",\n",
    "        \"rcurly\": \"[\\}]\",\n",
    "        \n",
    "        \"plus\": \"[+]\",\n",
    "        \"minus\": \"[-]\",\n",
    "        \"multiply\": \"[*]\",\n",
    "        \"divide\": \"[/]\",\n",
    "        \"modulo\": \"[%]\",\n",
    "        \"assign\": \"[=]\",\n",
    "\n",
    "        \"equals\": \"==\",\n",
    "        \"greater\": \">\",\n",
    "        \"less\": \"<\" \n",
    "    }\n",
    "\n",
    "    def lex(self, string):\n",
    "        potential_tokens = re.findall(r\"[\\S]+\", string)\n",
    "        print(potential_tokens)\n",
    "\n",
    "        for string in potential_tokens:\n",
    "            for key, val in self.TOKENS.items():\n",
    "                pattern = re.compile(val)\n",
    "                if pattern.match(string):\n",
    "                    print(string, \"matches:\", key)\n",
    "                    break\n",
    "\n",
    "\n",
    "lexer = Lexer()\n",
    "lexer.lex('int i = 10.5 ( ) { } + 5 \"hello#jen?(\" \\n')"
   ]
  },
  {
   "cell_type": "code",
   "execution_count": 60,
   "metadata": {},
   "outputs": [],
   "source": []
  },
  {
   "cell_type": "code",
   "execution_count": 3,
   "metadata": {},
   "outputs": [],
   "source": []
  },
  {
   "cell_type": "code",
   "execution_count": null,
   "metadata": {},
   "outputs": [],
   "source": []
  }
 ],
 "metadata": {
  "kernelspec": {
   "display_name": "Python 3",
   "language": "python",
   "name": "python3"
  },
  "language_info": {
   "codemirror_mode": {
    "name": "ipython",
    "version": 3
   },
   "file_extension": ".py",
   "mimetype": "text/x-python",
   "name": "python",
   "nbconvert_exporter": "python",
   "pygments_lexer": "ipython3",
   "version": "3.7.2"
  }
 },
 "nbformat": 4,
 "nbformat_minor": 2
}
