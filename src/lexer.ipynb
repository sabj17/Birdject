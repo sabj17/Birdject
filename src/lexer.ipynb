{
 "cells": [
  {
   "cell_type": "markdown",
   "metadata": {},
   "source": [
    "File loading"
   ]
  },
  {
   "cell_type": "code",
   "execution_count": null,
   "metadata": {},
   "outputs": [],
   "source": []
  },
  {
   "cell_type": "code",
   "execution_count": null,
   "metadata": {},
   "outputs": [],
   "source": [
    "Lexer"
   ]
  },
  {
   "cell_type": "code",
   "execution_count": 56,
   "metadata": {},
   "outputs": [
    {
     "name": "stdout",
     "output_type": "stream",
     "text": [
      "['st1', '=', '\"hel\"lo\"']\n",
      "st1 matches: identifier\n",
      "= matches: assignment\n",
      "\"hel\"lo\" matches: str\n"
     ]
    }
   ],
   "source": [
    "import re\n",
    "\n",
    "\n",
    "class Lexer:\n",
    "    TOKENS = {\n",
    "        \"set\": \"set\",\n",
    "        \"to\": \"to\",\n",
    "        \n",
    "        \"foreach\": \"for each\",\n",
    "        \"in\" : \"in \",\n",
    "        \"when\": \" when\",\n",
    "        \"if\": \" if\",\n",
    "        \"else\": \" else\",\n",
    "        \"run\": \" run\",\n",
    "        \"return\": \" return\",\n",
    "        \n",
    "        \"input\": \"input\",\n",
    "        \"output\": \"output\",\n",
    "        \"delay\": \"delay\",\n",
    "        \"date\": \"date\",\n",
    "        \"read\": \"read\",\n",
    "        \"write\": \"write\",\n",
    "        \"print\": \"print\",\n",
    "        \"bool\": \" true|false|on|off \",\n",
    "        \"not\": '!|not',\n",
    "        \n",
    "        \n",
    "        \"str\": '\"([a-z(!\")A-Z(!\")0-9(!\") ]*)*\"',\n",
    "        \"identifier\": \"[a-z][a-zA-z0-9]*\",\n",
    "        \"fnum\": \"^[-+]?[0-9]*[.][0-9]+\",\n",
    "        \"inum\": \"^[-+]?[1-9][0-9]*$|0\",\n",
    "        \"lparen\": \" \\(\",\n",
    "        \"hparen\": \"\\) \",\n",
    "        \n",
    "        \"plus\": \"[+]\",\n",
    "        \"minus\": \"[-]\",\n",
    "        \"multiply\": \"[*]\",\n",
    "        \"divide\": \"[/]\",\n",
    "        \"modulo\": \"[%]\",\n",
    "\n",
    "        \"assignment\": \"=\",\n",
    "        \"equals\": \"==\",\n",
    "        \"greater\": \">\",\n",
    "        \"less\": \"<\" \n",
    "    }\n",
    "\n",
    "    def lex(self, string):\n",
    "        potential_tokens = re.findall(r\"[\\S]+\", string)\n",
    "        print(potential_tokens)\n",
    "\n",
    "        for string in potential_tokens:\n",
    "            for key, val in self.TOKENS.items():\n",
    "                pattern = re.compile(val)\n",
    "                if pattern.match(string):\n",
    "                    print(string, \"matches:\", key)\n",
    "                    break\n",
    "\n",
    "\n",
    "lexer = Lexer()\n",
    "lexer.lex('st1 = \"hel\"lo\"')"
   ]
  },
  {
   "cell_type": "code",
   "execution_count": null,
   "metadata": {},
   "outputs": [],
   "source": []
  },
  {
   "cell_type": "code",
   "execution_count": null,
   "metadata": {},
   "outputs": [],
   "source": []
  }
 ],
 "metadata": {
  "kernelspec": {
   "display_name": "Python 3",
   "language": "python",
   "name": "python3"
  },
  "language_info": {
   "codemirror_mode": {
    "name": "ipython",
    "version": 3
   },
   "file_extension": ".py",
   "mimetype": "text/x-python",
   "name": "python",
   "nbconvert_exporter": "python",
   "pygments_lexer": "ipython3",
   "version": "3.7.2"
  }
 },
 "nbformat": 4,
 "nbformat_minor": 2
}
