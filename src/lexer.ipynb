{
 "cells": [
  {
   "cell_type": "code",
   "execution_count": 107,
   "metadata": {},
   "outputs": [
    {
     "name": "stdout",
     "output_type": "stream",
     "text": [
      "['//', 'komment', 'int', 'i', '=', '10.5', '(', ')', '{', '}', '+', '5', '\"hello#jen?(\"', '\\n']\n// matches: comment\n14\n"
     ]
    }
   ],
   "source": [
    "import re\n",
    "\n",
    "\n",
    "class Lexer:\n",
    "    TOKENS = {\n",
    "        \"comment\": r'^[//].',\n",
    "        \"set\": \"set\",\n",
    "        \"to\": \"to\",\n",
    "        \n",
    "        \"foreach\": \"for each\",\n",
    "        \"in\": \"in \",\n",
    "        \"is\": \"is \",\n",
    "        \"when\": \"when\",\n",
    "        \"if\": \"if\",\n",
    "        \"else\": \"else\",\n",
    "        \"run\": \"run\",\n",
    "        \"return\": \"return\",\n",
    "        \"and\": \"and\",\n",
    "        \"or\": \"or\",\n",
    "        \"xor\": \"xor\",\n",
    "        \n",
    "        \"input\": \"input\",\n",
    "        \"output\": \"output\",\n",
    "        \"delay\": \"delay\",\n",
    "        \"date\": \"date\",\n",
    "        \"read\": \"read\",\n",
    "        \"write\": \"write\",\n",
    "        \"print\": \"print\",\n",
    "        \"bool\": \"true|false|on|off\",\n",
    "        \"not\": '!|not',\n",
    "        \n",
    "        \n",
    "        \"str\": r'^\"([\\w]|[+*/?=:.,;<>&#%()]|[-])*\"$',\n",
    "        \"identifier\": \"[a-z][a-zA-z0-9]*\",\n",
    "        \"fnum\": \"^[-+]?[0-9]*[.][0-9]+\",\n",
    "        \"inum\": \"^[-+]?[1-9][0-9]*$|0\",\n",
    "        \"lparen\": \"[\\(]\",\n",
    "        \"hparen\": \"[\\)]\",\n",
    "        \"lcurly\": \"[\\{]\",\n",
    "        \"rcurly\": \"[\\}]\",\n",
    "        \n",
    "        \"plus\": \"[+]\",\n",
    "        \"minus\": \"[-]\",\n",
    "        \"multiply\": \"[*]\",\n",
    "        \"divide\": \"[/]\",\n",
    "        \"modulo\": \"[%]\",\n",
    "        \"assign\": \"[=]\",\n",
    "\n",
    "        \"equals\": \"==\",\n",
    "        \"greater\": \">\",\n",
    "        \"less\": \"<\" \n",
    "    }\n",
    "\n",
    "    def lex(self, string):\n",
    "        potential_tokens = re.findall(r\"//|\\n|[\\S]+\", string)\n",
    "        print(potential_tokens)\n",
    "        \n",
    "        i = 0\n",
    "        while i < len(potential_tokens):\n",
    "            string = potential_tokens[i]            \n",
    "            for key, val in self.TOKENS.items():\n",
    "                pattern = re.compile(val)\n",
    "                if pattern.match(string):\n",
    "                    if string == \"//\":\n",
    "                        while \"\\n\" not in potential_tokens[i]:\n",
    "                            i += 1\n",
    "                            if i >= len(potential_tokens):\n",
    "                                break\n",
    "                    \n",
    "                    print(string, \"matches:\", key)\n",
    "                    break\n",
    "            i += 1\n",
    "            print(i)\n",
    "                \n",
    "\n",
    "lexer = Lexer()\n",
    "lexer.lex('//komment int i = 10.5 ( ) { } + 5 \"hello#jen?(\" \\n')"
   ]
  },
  {
   "cell_type": "code",
   "execution_count": 60,
   "metadata": {},
   "outputs": [],
   "source": []
  },
  {
   "cell_type": "code",
   "execution_count": 3,
   "metadata": {},
   "outputs": [],
   "source": []
  },
  {
   "cell_type": "code",
   "execution_count": null,
   "metadata": {},
   "outputs": [],
   "source": []
  }
 ],
 "metadata": {
  "kernelspec": {
   "display_name": "Python 3",
   "language": "python",
   "name": "python3"
  },
  "language_info": {
   "codemirror_mode": {
    "name": "ipython",
    "version": 3
   },
   "file_extension": ".py",
   "mimetype": "text/x-python",
   "name": "python",
   "nbconvert_exporter": "python",
   "pygments_lexer": "ipython3",
   "version": "3.7.2"
  }
 },
 "nbformat": 4,
 "nbformat_minor": 2
}
